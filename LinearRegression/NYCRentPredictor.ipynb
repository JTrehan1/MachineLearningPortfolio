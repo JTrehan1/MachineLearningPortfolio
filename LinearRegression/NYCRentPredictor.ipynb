{
 "cells": [
  {
   "cell_type": "markdown",
   "id": "09d01781",
   "metadata": {},
   "source": [
    "# Extended Rental Price Prediction with Visualizations and Borough Selector"
   ]
  },
  {
   "cell_type": "markdown",
   "id": "e30fdf12",
   "metadata": {},
   "source": [
    "\n",
    "This notebook extends the multiple linear regression analysis to:\n",
    "- Visualize the impact of features on rental price.\n",
    "- Include data from Queens and Brooklyn alongside Manhattan.\n",
    "- Provide an interactive interface for predicting rental prices.\n"
   ]
  },
  {
   "cell_type": "code",
   "execution_count": 1,
   "id": "abdc58a8",
   "metadata": {},
   "outputs": [],
   "source": [
    "import pandas as pd\n",
    "from sklearn.linear_model import LinearRegression\n",
    "from sklearn.model_selection import train_test_split\n",
    "import ipywidgets as widgets\n",
    "from IPython.display import display\n",
    "from IPython.display import clear_output"
   ]
  },
  {
   "cell_type": "code",
   "execution_count": 2,
   "id": "97623ab9",
   "metadata": {},
   "outputs": [],
   "source": [
    "streeteasy_manhattan = pd.read_csv(\"https://raw.githubusercontent.com/Codecademy/datasets/master/streeteasy/manhattan.csv\")\n",
    "streeteasy_brooklyn = pd.read_csv(\"https://raw.githubusercontent.com/Codecademy/datasets/master/streeteasy/brooklyn.csv\")\n",
    "streeteasy_queens = pd.read_csv(\"https://raw.githubusercontent.com/Codecademy/datasets/master/streeteasy/queens.csv\")\n",
    "\n",
    "datasets = {\n",
    "    \"Manhattan\": streeteasy_manhattan.copy(),\n",
    "    \"Brooklyn\": streeteasy_brooklyn.copy(),\n",
    "    \"Queens\": streeteasy_queens.copy()\n",
    "}"
   ]
  },
  {
   "cell_type": "code",
   "execution_count": 3,
   "id": "5df626bf",
   "metadata": {},
   "outputs": [],
   "source": [
    "def train_rent_model(df):\n",
    "    features = ['bedrooms', 'bathrooms', 'size_sqft', 'min_to_subway', 'floor',\n",
    "                'building_age_yrs', 'no_fee', 'has_roofdeck', 'has_washer_dryer',\n",
    "                'has_doorman', 'has_elevator', 'has_dishwasher', 'has_patio', 'has_gym']\n",
    "    X = df[features]\n",
    "    y = df['rent']\n",
    "    x_train, x_test, y_train, y_test = train_test_split(X, y, train_size=0.8, random_state=42)\n",
    "    \n",
    "    model = LinearRegression()\n",
    "    model.fit(x_train, y_train)\n",
    "    y_pred = model.predict(x_test)\n",
    "    \n",
    "    return model, features"
   ]
  },
  {
   "cell_type": "code",
   "execution_count": 4,
   "id": "43d82b4d",
   "metadata": {},
   "outputs": [],
   "source": [
    "models = {}\n",
    "feature_sets = {}\n",
    "\n",
    "for borough, df in datasets.items():\n",
    "    model, features = train_rent_model(df)\n",
    "    models[borough] = model\n",
    "    feature_sets[borough] = features"
   ]
  },
  {
   "cell_type": "code",
   "execution_count": 5,
   "id": "11eba761",
   "metadata": {},
   "outputs": [
    {
     "data": {
      "application/vnd.jupyter.widget-view+json": {
       "model_id": "c722e752e0244be7ab5de635dcfae9f6",
       "version_major": 2,
       "version_minor": 0
      },
      "text/plain": [
       "Dropdown(description='Borough:', options=('Manhattan', 'Brooklyn', 'Queens'), value='Manhattan')"
      ]
     },
     "metadata": {},
     "output_type": "display_data"
    },
    {
     "data": {
      "application/vnd.jupyter.widget-view+json": {
       "model_id": "3d18a5086f2b4429b1c7edfc5c6044a7",
       "version_major": 2,
       "version_minor": 0
      },
      "text/plain": [
       "VBox(children=(HBox(children=(Label(value='bedrooms'), IntSlider(value=1, max=5))), HBox(children=(Label(value…"
      ]
     },
     "metadata": {},
     "output_type": "display_data"
    },
    {
     "data": {
      "application/vnd.jupyter.widget-view+json": {
       "model_id": "8e8bf855012342ac822f25241a4d5be9",
       "version_major": 2,
       "version_minor": 0
      },
      "text/plain": [
       "Output()"
      ]
     },
     "metadata": {},
     "output_type": "display_data"
    }
   ],
   "source": [
    "def create_predictor(borough):\n",
    "    clear_output(wait=True)\n",
    "    display(borough_selector)\n",
    "\n",
    "    model = models[borough]\n",
    "    features = feature_sets[borough]\n",
    "    \n",
    "    input_widgets = {\n",
    "        'bedrooms': widgets.IntSlider(value=1, min=0, max=5),\n",
    "        'bathrooms': widgets.FloatSlider(value=1.0, min=0.5, max=4.0, step=0.5),\n",
    "        'size_sqft': widgets.IntSlider(value=500, min=200, max=2000),\n",
    "        'min_to_subway': widgets.IntSlider(value=5, min=0, max=30),\n",
    "        'floor': widgets.IntSlider(value=1, min=0, max=50),\n",
    "        'building_age_yrs': widgets.IntSlider(value=10, min=0, max=100),\n",
    "        'no_fee': widgets.Checkbox(value=True),\n",
    "        'has_roofdeck': widgets.Checkbox(value=False),\n",
    "        'has_washer_dryer': widgets.Checkbox(value=False),\n",
    "        'has_doorman': widgets.Checkbox(value=False),\n",
    "        'has_elevator': widgets.Checkbox(value=True),\n",
    "        'has_dishwasher': widgets.Checkbox(value=False),\n",
    "        'has_patio': widgets.Checkbox(value=False),\n",
    "        'has_gym': widgets.Checkbox(value=False)\n",
    "    }\n",
    "\n",
    "    ui = widgets.VBox([widgets.HBox([widgets.Label(k), v]) for k, v in input_widgets.items()])\n",
    "    display(ui)\n",
    "\n",
    "    def predict_rent(**kwargs):\n",
    "        cleaned_input = {k: int(v) if isinstance(v, bool) else v for k, v in kwargs.items()}\n",
    "        X_input = pd.DataFrame([[cleaned_input[f] for f in features]], columns=features)\n",
    "        prediction = model.predict(X_input)[0]\n",
    "        print(f\"Predicted Rent for {borough}: ${prediction:.2f}\")\n",
    "\n",
    "    out = widgets.interactive_output(predict_rent, input_widgets)\n",
    "    display(out)\n",
    "\n",
    "\n",
    "borough_selector = widgets.Dropdown(options=datasets.keys(), description='Borough:')\n",
    "display(borough_selector)\n",
    "\n",
    "create_predictor(borough_selector.value)\n",
    "\n",
    "def on_change(change):\n",
    "    if change['name'] == 'value':\n",
    "        create_predictor(change['new'])\n",
    "\n",
    "borough_selector.observe(on_change)\n",
    "borough_selector = widgets.Dropdown(options=datasets.keys(), description='Borough:')\n",
    "display(borough_selector)\n",
    "\n",
    "create_predictor(borough_selector.value)\n",
    "\n",
    "def on_change(change):\n",
    "    if change['name'] == 'value':\n",
    "        create_predictor(change['new'])\n",
    "\n",
    "borough_selector.observe(on_change)"
   ]
  }
 ],
 "metadata": {
  "kernelspec": {
   "display_name": "base",
   "language": "python",
   "name": "python3"
  },
  "language_info": {
   "codemirror_mode": {
    "name": "ipython",
    "version": 3
   },
   "file_extension": ".py",
   "mimetype": "text/x-python",
   "name": "python",
   "nbconvert_exporter": "python",
   "pygments_lexer": "ipython3",
   "version": "3.10.9"
  }
 },
 "nbformat": 4,
 "nbformat_minor": 5
}
